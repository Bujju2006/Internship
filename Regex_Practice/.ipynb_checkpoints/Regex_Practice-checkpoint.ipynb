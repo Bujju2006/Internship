{
 "cells": [
  {
   "cell_type": "code",
   "execution_count": 1,
   "id": "f8fd1081",
   "metadata": {},
   "outputs": [],
   "source": [
    "import re"
   ]
  },
  {
   "cell_type": "code",
   "execution_count": 7,
   "id": "f63f984d",
   "metadata": {},
   "outputs": [
    {
     "name": "stdout",
     "output_type": "stream",
     "text": [
      "['S', 'a', 'r', 'a', 'v', 'a', 'n', 'a', 'k', 'u', 'm', '2', '2', '1', '3', '2', '2', '3']\n"
     ]
    }
   ],
   "source": [
    "#Write a RegEx pattern in python program to check that a string contains only a certain set of characters \n",
    "#(in this case a-z, A-Z and 0-9)\n",
    "\n",
    "testStr=\"Saravanakum2213223%%%%\"\n",
    "\n",
    "result=re.findall(r'[a-zA-Z0-9]',testStr)\n",
    "print(result)"
   ]
  },
  {
   "cell_type": "code",
   "execution_count": 12,
   "id": "151427a8",
   "metadata": {},
   "outputs": [
    {
     "name": "stdout",
     "output_type": "stream",
     "text": [
      "['S', 'a', 'r', 'a', 'v', 'a', 'n', 'a', 'k', 'u', 'm', '2', '2', '1', '3', '2', '2', '3', '%', '%', '%', '%']\n"
     ]
    }
   ],
   "source": [
    "\n",
    "testStr=\"Saravanakum2213223%%%%\"\n",
    "\n",
    "result=re.findall(r'[a-zA-Z0-9%]',testStr)\n",
    "print(result)"
   ]
  },
  {
   "cell_type": "code",
   "execution_count": 17,
   "id": "d8dbaac3",
   "metadata": {},
   "outputs": [
    {
     "name": "stdout",
     "output_type": "stream",
     "text": [
      "the string \"anC1234efg\" contains only allowed string\n"
     ]
    }
   ],
   "source": [
    "def contains_only_allowed_string(input_string):\n",
    "    pattern=re.compile(r'^[a-zA-Z0-9]+$')\n",
    "    return bool(pattern.match(input_string))\n",
    "\n",
    "input_string='anC1234efg'\n",
    "if contains_only_allowed_string(input_string):\n",
    "    print(f'the string \"{input_string}\" contains only allowed string')\n",
    "else:\n",
    "     print(f'the string \"{input_string}\" contains other than allowed string')"
   ]
  },
  {
   "cell_type": "code",
   "execution_count": 26,
   "id": "033c719c",
   "metadata": {},
   "outputs": [
    {
     "name": "stdout",
     "output_type": "stream",
     "text": [
      "<re.Match object; span=(0, 1), match='a'>\n",
      "<re.Match object; span=(0, 2), match='ab'>\n",
      "<re.Match object; span=(0, 4), match='abbb'>\n",
      "<re.Match object; span=(0, 1), match='a'>\n",
      "<re.Match object; span=(0, 1), match='a'>\n"
     ]
    }
   ],
   "source": [
    "#Question 2- Write a RegEx pattern that matches a string that has an a followed by zero or more b's\n",
    "\n",
    "#the regular expression pattern ab* breaks down as follows:\n",
    "\n",
    "#a: Matches the character 'a'.\n",
    "#b*: Matches zero or more occurrences of the character 'b'.\n",
    "\n",
    "pattern=re.compile(r'ab*')\n",
    "\n",
    "test_string1='a'\n",
    "test_string2='ab'\n",
    "test_string3='abbb'\n",
    "test_string4='aBbb'\n",
    "test_string5='acc'\n",
    "\n",
    "print(pattern.match(test_string1))\n",
    "print(pattern.match(test_string2))\n",
    "print(pattern.match(test_string3))\n",
    "print(pattern.match(test_string4))\n",
    "print(pattern.match(test_string5))"
   ]
  },
  {
   "cell_type": "code",
   "execution_count": 27,
   "id": "5065c8d0",
   "metadata": {},
   "outputs": [
    {
     "name": "stdout",
     "output_type": "stream",
     "text": [
      "None\n",
      "<re.Match object; span=(0, 2), match='ab'>\n",
      "<re.Match object; span=(0, 4), match='abbb'>\n",
      "<re.Match object; span=(0, 3), match='abb'>\n",
      "None\n"
     ]
    }
   ],
   "source": [
    "#Question 3-  Write a RegEx pattern that matches a string that has an a followed by one or more b's\n",
    "#In this example, the regular expression pattern ab+ breaks down as follows:\n",
    "\n",
    "#a: Matches the character 'a'.\n",
    "#b+: Matches one or more occurrences of the character 'b'.\n",
    "\n",
    "pattern=re.compile(r'ab+')\n",
    "\n",
    "test_string1='a'\n",
    "test_string2='ab'\n",
    "test_string3='abbb'\n",
    "test_string4='abbDD'\n",
    "test_string5='acc'\n",
    "\n",
    "print(pattern.match(test_string1))\n",
    "print(pattern.match(test_string2))\n",
    "print(pattern.match(test_string3))\n",
    "print(pattern.match(test_string4))\n",
    "print(pattern.match(test_string5))"
   ]
  },
  {
   "cell_type": "code",
   "execution_count": 28,
   "id": "478f4c72",
   "metadata": {},
   "outputs": [
    {
     "name": "stdout",
     "output_type": "stream",
     "text": [
      "<re.Match object; span=(0, 1), match='a'>\n",
      "<re.Match object; span=(0, 2), match='ab'>\n",
      "<re.Match object; span=(0, 2), match='ab'>\n",
      "<re.Match object; span=(0, 2), match='ab'>\n",
      "<re.Match object; span=(0, 1), match='a'>\n"
     ]
    }
   ],
   "source": [
    "#Question 4- Write a RegEx pattern that matches a string that has an a followed by zero or one 'b'.\n",
    "\n",
    "#In this example, the regular expression pattern ab? breaks down as follows:\n",
    "\n",
    "#a: Matches the character 'a'.\n",
    "#b?: Matches zero or one occurrence of the character 'b'.\n",
    "#The ? quantifier makes the preceding character 'b' optional\n",
    "\n",
    "pattern=re.compile(r'ab?')\n",
    "\n",
    "test_string1='a'\n",
    "test_string2='ab'\n",
    "test_string3='abbb'\n",
    "test_string4='abbDD'\n",
    "test_string5='acc'\n",
    "\n",
    "print(pattern.match(test_string1))\n",
    "print(pattern.match(test_string2))\n",
    "print(pattern.match(test_string3))\n",
    "print(pattern.match(test_string4))\n",
    "print(pattern.match(test_string5))"
   ]
  },
  {
   "cell_type": "code",
   "execution_count": 30,
   "id": "fc13ec64",
   "metadata": {},
   "outputs": [
    {
     "name": "stdout",
     "output_type": "stream",
     "text": [
      "None\n",
      "None\n",
      "<re.Match object; span=(0, 4), match='abbb'>\n",
      "<re.Match object; span=(0, 4), match='abbb'>\n",
      "None\n"
     ]
    }
   ],
   "source": [
    "#Question 5- Write a RegEx pattern in python program that matches a string that has an a followed by three 'b'.\n",
    "\n",
    "#In this example, the regular expression pattern ab{3} breaks down as follows:\n",
    "\n",
    "#a: Matches the character 'a'.\n",
    "#b{3}: Matches exactly three occurrences of the character 'b'.\n",
    "#So, it will match strings like 'abbb', where 'a' is followed by three 'b's. If the number of 'b's is not exactly three,\n",
    "#the pattern will not match.\n",
    "\n",
    "pattern=re.compile(r'ab{3}')\n",
    "\n",
    "test_string1='a'\n",
    "test_string2='ab'\n",
    "test_string3='abbb'\n",
    "test_string4='abbbb'\n",
    "test_string5='acc'\n",
    "\n",
    "print(pattern.match(test_string1))\n",
    "print(pattern.match(test_string2))\n",
    "print(pattern.match(test_string3))\n",
    "print(pattern.match(test_string4))\n",
    "print(pattern.match(test_string5))"
   ]
  },
  {
   "cell_type": "code",
   "execution_count": 31,
   "id": "5af87021",
   "metadata": {},
   "outputs": [
    {
     "name": "stdout",
     "output_type": "stream",
     "text": [
      "None\n",
      "<re.Match object; span=(0, 3), match='abb'>\n",
      "<re.Match object; span=(0, 4), match='abbb'>\n",
      "<re.Match object; span=(0, 4), match='abbb'>\n",
      "None\n"
     ]
    }
   ],
   "source": [
    "#Question 6- Write a RegEx pattern in python program that matches a string that has an a followed by two to three 'b'.\n",
    "\n",
    "#In this example, the regular expression pattern ab{2,3} breaks down as follows:\n",
    "\n",
    "#a: Matches the character 'a'.\n",
    "#b{2,3}: Matches two or three occurrences of the character 'b'.\n",
    "\n",
    "pattern=re.compile(r'ab{2,3}')\n",
    "\n",
    "test_string1='a'\n",
    "test_string2='abb'\n",
    "test_string3='abbb'\n",
    "test_string4='abbbb'\n",
    "test_string5='acc'\n",
    "\n",
    "print(pattern.match(test_string1))\n",
    "print(pattern.match(test_string2))\n",
    "print(pattern.match(test_string3))\n",
    "print(pattern.match(test_string4))\n",
    "print(pattern.match(test_string5))"
   ]
  },
  {
   "cell_type": "code",
   "execution_count": 36,
   "id": "fd4d79f5",
   "metadata": {},
   "outputs": [
    {
     "name": "stdout",
     "output_type": "stream",
     "text": [
      "None\n",
      "<re.Match object; span=(0, 3), match='abb'>\n",
      "<re.Match object; span=(0, 4), match='abbb'>\n",
      "<re.Match object; span=(0, 5), match='abbbb'>\n",
      "<re.Match object; span=(0, 4), match='accb'>\n"
     ]
    }
   ],
   "source": [
    "#Question 7- Write a Python program that matches a string that has an 'a' followed by anything, ending in 'b'.\n",
    "#In this example, the regular expression pattern a.*b$ breaks down as follows:\n",
    "\n",
    "#a: Matches the character 'a'.\n",
    "#.*: Matches any sequence of characters (except for a newline).\n",
    "#b$: Matches the character 'b' at the end of the string.\n",
    "\n",
    "pattern=re.compile(r'a.*b$')\n",
    "\n",
    "test_string1='a'\n",
    "test_string2='abb'\n",
    "test_string3='abbb'\n",
    "test_string4='abbbb'\n",
    "test_string5='accb'\n",
    "\n",
    "print(pattern.match(test_string1))\n",
    "print(pattern.match(test_string2))\n",
    "print(pattern.match(test_string3))\n",
    "print(pattern.match(test_string4))\n",
    "print(pattern.match(test_string5))"
   ]
  },
  {
   "cell_type": "code",
   "execution_count": 43,
   "id": "884c395f",
   "metadata": {},
   "outputs": [
    {
     "name": "stdout",
     "output_type": "stream",
     "text": [
      "<re.Match object; span=(0, 1), match='a'>\n",
      "<re.Match object; span=(0, 5), match='12abb'>\n",
      "<re.Match object; span=(0, 4), match='abbb'>\n",
      "None\n",
      "<re.Match object; span=(0, 4), match='accb'>\n"
     ]
    }
   ],
   "source": [
    "#Question 8- Write a RegEx pattern in python program that matches a word at the beginning of a string.\n",
    "\n",
    "##In this example, the regular expression pattern ^\\w+ breaks down as follows:\n",
    "\n",
    "##^: Asserts the start of the string.\n",
    "##\\w+: Matches one or more word characters (letters, digits, or underscores).\n",
    "\n",
    "\n",
    "pattern=re.compile(r'^\\w+')\n",
    "\n",
    "test_string1='a'\n",
    "test_string2='12abb'\n",
    "test_string3='abbb'\n",
    "test_string4='!@###%12ds'\n",
    "test_string5='accb'\n",
    "\n",
    "print(pattern.match(test_string1))\n",
    "print(pattern.match(test_string2))\n",
    "print(pattern.match(test_string3))\n",
    "print(pattern.match(test_string4))\n",
    "print(pattern.match(test_string5))"
   ]
  },
  {
   "cell_type": "code",
   "execution_count": 46,
   "id": "0c2a413f",
   "metadata": {},
   "outputs": [
    {
     "name": "stdout",
     "output_type": "stream",
     "text": [
      "<re.Match object; span=(0, 1), match='a'>\n",
      "<re.Match object; span=(0, 5), match='12abb'>\n",
      "<re.Match object; span=(0, 4), match='abbb'>\n",
      "None\n",
      "None\n"
     ]
    }
   ],
   "source": [
    "#Question 9- Write a RegEx pattern in python program that matches a word at the end of a string.\n",
    "\n",
    "#In this example, the regular expression pattern \\w+$ breaks down as follows:\n",
    "#\\w+: Matches one or more word characters (letters, digits, or underscores).\n",
    "#$: Asserts the end of the string.\n",
    "#So, it will match the last word in the string, considering words as sequences of letters, digits, or underscores.\n",
    "#If there is trailing whitespace, it won't be part of the match due to the \\w+ pattern. The search method is used instead of \n",
    "#match to find the pattern anywhere in the string, not just at the beginning.\n",
    "\n",
    "\n",
    "\n",
    "pattern=re.compile(r'^\\w+$')\n",
    "\n",
    "test_string1='a'\n",
    "test_string2='12abb'\n",
    "test_string3='abbb'\n",
    "test_string4='!@###%12ds'\n",
    "test_string5='accb     '\n",
    "\n",
    "print(pattern.match(test_string1))\n",
    "print(pattern.match(test_string2))\n",
    "print(pattern.match(test_string3))\n",
    "print(pattern.match(test_string4))\n",
    "print(pattern.match(test_string5))"
   ]
  },
  {
   "cell_type": "code",
   "execution_count": 48,
   "id": "7ec1391b",
   "metadata": {},
   "outputs": [
    {
     "name": "stdout",
     "output_type": "stream",
     "text": [
      "['0132', '1458', '2725']\n"
     ]
    }
   ],
   "source": [
    "#Write a RegEx pattern in python program to find all words that are 4 digits long in a string.\n",
    "#Sample text- '01 0132 231875 1458 301 2725.'\n",
    "#Expected output- ['0132', '1458', '2725']\n",
    "\n",
    "#In this example, the regular expression pattern \\b\\d{4}\\b breaks down as follows:\n",
    "\n",
    "#\\b: Word boundary to ensure that we match whole words.\n",
    "#\\d{4}: Matches exactly four digits.\n",
    "#\\b: Another word boundary to complete the word match.\n",
    "\n",
    "text= '01 0132 231875 1458 301 2725.'\n",
    "\n",
    "pattern=re.compile(r'\\b\\d{4}\\b')\n",
    "\n",
    "result=pattern.findall(text)\n",
    "print(result)\n"
   ]
  },
  {
   "cell_type": "code",
   "execution_count": null,
   "id": "34b81649",
   "metadata": {},
   "outputs": [],
   "source": []
  },
  {
   "cell_type": "code",
   "execution_count": null,
   "id": "d6597f64",
   "metadata": {},
   "outputs": [],
   "source": []
  },
  {
   "cell_type": "code",
   "execution_count": null,
   "id": "d99f349f",
   "metadata": {},
   "outputs": [],
   "source": []
  },
  {
   "cell_type": "code",
   "execution_count": null,
   "id": "e5ef04da",
   "metadata": {},
   "outputs": [],
   "source": []
  },
  {
   "cell_type": "code",
   "execution_count": null,
   "id": "51098d3e",
   "metadata": {},
   "outputs": [],
   "source": []
  },
  {
   "cell_type": "code",
   "execution_count": null,
   "id": "2b54bdf5",
   "metadata": {},
   "outputs": [],
   "source": []
  }
 ],
 "metadata": {
  "kernelspec": {
   "display_name": "Python 3 (ipykernel)",
   "language": "python",
   "name": "python3"
  },
  "language_info": {
   "codemirror_mode": {
    "name": "ipython",
    "version": 3
   },
   "file_extension": ".py",
   "mimetype": "text/x-python",
   "name": "python",
   "nbconvert_exporter": "python",
   "pygments_lexer": "ipython3",
   "version": "3.10.9"
  }
 },
 "nbformat": 4,
 "nbformat_minor": 5
}
