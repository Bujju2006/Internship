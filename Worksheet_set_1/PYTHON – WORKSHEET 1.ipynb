{
 "cells": [
  {
   "cell_type": "code",
   "execution_count": 1,
   "id": "898bc876",
   "metadata": {},
   "outputs": [
    {
     "data": {
      "text/plain": [
       "0"
      ]
     },
     "execution_count": 1,
     "metadata": {},
     "output_type": "execute_result"
    }
   ],
   "source": [
    "2//3"
   ]
  },
  {
   "cell_type": "code",
   "execution_count": 2,
   "id": "3441e7f9",
   "metadata": {},
   "outputs": [
    {
     "data": {
      "text/plain": [
       "24"
      ]
     },
     "execution_count": 2,
     "metadata": {},
     "output_type": "execute_result"
    }
   ],
   "source": [
    " 6<<2"
   ]
  },
  {
   "cell_type": "code",
   "execution_count": 3,
   "id": "d77e9468",
   "metadata": {},
   "outputs": [
    {
     "data": {
      "text/plain": [
       "2"
      ]
     },
     "execution_count": 3,
     "metadata": {},
     "output_type": "execute_result"
    }
   ],
   "source": [
    "6&2"
   ]
  },
  {
   "cell_type": "code",
   "execution_count": 4,
   "id": "780e9fa4",
   "metadata": {},
   "outputs": [
    {
     "data": {
      "text/plain": [
       "6"
      ]
     },
     "execution_count": 4,
     "metadata": {},
     "output_type": "execute_result"
    }
   ],
   "source": [
    "6|2"
   ]
  },
  {
   "cell_type": "code",
   "execution_count": 7,
   "id": "bf118273",
   "metadata": {},
   "outputs": [
    {
     "ename": "SyntaxError",
     "evalue": "invalid decimal literal (4116347790.py, line 1)",
     "output_type": "error",
     "traceback": [
      "\u001b[1;36m  Cell \u001b[1;32mIn[7], line 1\u001b[1;36m\u001b[0m\n\u001b[1;33m    1abc=12\u001b[0m\n\u001b[1;37m    ^\u001b[0m\n\u001b[1;31mSyntaxError\u001b[0m\u001b[1;31m:\u001b[0m invalid decimal literal\n"
     ]
    }
   ],
   "source": [
    "1abc=12\n",
    "_abc=13\n",
    "abc2=14\n",
    "print(_abc)\n",
    "print(abc2)\n",
    "print(1abc)\n",
    "\n"
   ]
  },
  {
   "cell_type": "code",
   "execution_count": 8,
   "id": "c44a9245",
   "metadata": {},
   "outputs": [
    {
     "name": "stdout",
     "output_type": "stream",
     "text": [
      "Enter a Number:5\n",
      "The factorical of 5 is:120\n"
     ]
    }
   ],
   "source": [
    "#Write a python program to find the factorial of a number\n",
    "\n",
    "inputNumber=int(input(\"Enter a Number:\"))\n",
    "\n",
    "def factorical(num):\n",
    "    if num<0:\n",
    "        return \"Factorial not applicable for negative number\"\n",
    "    elif num==0 or num==1:\n",
    "        return 1\n",
    "    else:\n",
    "        result=1\n",
    "        for i in range(2,num+1):\n",
    "            result=result*i\n",
    "        return result\n",
    "    \n",
    "result=factorical(inputNumber)\n",
    "\n",
    "print(f\"The factorical of {inputNumber} is:{result}\")"
   ]
  },
  {
   "cell_type": "code",
   "execution_count": 15,
   "id": "cd6e60a0",
   "metadata": {},
   "outputs": [
    {
     "name": "stdout",
     "output_type": "stream",
     "text": [
      "Enter a Number:11\n",
      "True\n",
      "Enter a Number:1\n",
      "False\n"
     ]
    }
   ],
   "source": [
    "#Write a python program to find whether a number is prime or composite\n",
    "\n",
    "inputNumber=int(input(\"Enter a Number:\"))\n",
    "\n",
    "def is_prime(n):\n",
    "    \n",
    "    if n<2:\n",
    "        return False\n",
    "    i=2\n",
    "    while i*i<=n:\n",
    "        if n%i==0:\n",
    "            return False\n",
    "        i+=1\n",
    "    return True\n",
    "\n",
    "print(is_prime(inputNumber))\n",
    "\n",
    "inputNumber=int(input(\"Enter a Number:\"))\n",
    "\n",
    "print(is_prime(inputNumber))"
   ]
  },
  {
   "cell_type": "code",
   "execution_count": 21,
   "id": "43ea4625",
   "metadata": {},
   "outputs": [
    {
     "name": "stdout",
     "output_type": "stream",
     "text": [
      "Enter a Text:malayalam\n",
      "The malayalam is a palindrome\n",
      "Enter a Text:abc\n",
      "The abc is not a palindrome\n"
     ]
    }
   ],
   "source": [
    "#Write a python program to check whether a given string is palindrome or not\n",
    "\n",
    "inputText=input(\"Enter a Text:\")\n",
    "\n",
    "def is_palindrome(str):\n",
    "    revstr=\"\"\n",
    "    for i in str:\n",
    "        revstr=i+revstr\n",
    "    \n",
    "    if(str==revstr):\n",
    "        return True\n",
    "    else:\n",
    "        return False\n",
    "\n",
    "if(is_palindrome(inputText)):\n",
    "    print(f\"The {inputText} is a palindrome\")\n",
    "else:\n",
    "    print(f\"The {inputText} is not a palindrome\")\n",
    "    \n",
    "inputText1=input(\"Enter a Text:\")\n",
    "if(is_palindrome(inputText1)):\n",
    "    print(f\"The {inputText1} is a palindrome\")\n",
    "else:\n",
    "    print(f\"The {inputText1} is not a palindrome\")"
   ]
  },
  {
   "cell_type": "code",
   "execution_count": 27,
   "id": "db26bd51",
   "metadata": {},
   "outputs": [
    {
     "name": "stdout",
     "output_type": "stream",
     "text": [
      "Enter the length of first side:10.5\n",
      "Enter the length of second side:20\n",
      "The length of Third side is 22.589\n"
     ]
    }
   ],
   "source": [
    "#Write a Python program to get the third side of right-angled triangle from two given sides\n",
    "#h = (x**2 + y**2)**0.5\n",
    "\n",
    "def find_triange_third_side(side1,side2):\n",
    "    third_side=(side1**2+side2**2)**0.5\n",
    "    return third_side\n",
    "\n",
    "side1=float(input(\"Enter the length of first side:\"))\n",
    "side2=float(input(\"Enter the length of second side:\"))\n",
    "\n",
    "third_side=find_triange_third_side(side1,side2)\n",
    "\n",
    "print(f\"The length of Third side is {round(third_side,3)}\")"
   ]
  },
  {
   "cell_type": "code",
   "execution_count": 24,
   "id": "faa04415",
   "metadata": {},
   "outputs": [
    {
     "name": "stdout",
     "output_type": "stream",
     "text": [
      "22.588713996153036\n"
     ]
    }
   ],
   "source": [
    "h = (10.5**2 + 20**2)**0.5\n",
    "print(h)"
   ]
  },
  {
   "cell_type": "code",
   "execution_count": 31,
   "id": "8509288e",
   "metadata": {},
   "outputs": [
    {
     "name": "stdout",
     "output_type": "stream",
     "text": [
      "Enter the String:frequency of each of the characters\n",
      "{'f': 3, 'r': 3, 'e': 5, 'q': 1, 'u': 1, 'n': 1, 'c': 4, 'y': 1, ' ': 5, 'o': 2, 'a': 3, 'h': 3, 't': 2, 's': 1}\n"
     ]
    }
   ],
   "source": [
    "#Write a python program to print the frequency of each of the characters present in a given string\n",
    "\n",
    "inputStr=input(\"Enter the String:\")\n",
    "\n",
    "char_freq = {}\n",
    " \n",
    "for i in inputStr:\n",
    "    if i in char_freq:\n",
    "        char_freq[i] += 1\n",
    "    else:\n",
    "        char_freq[i] = 1\n",
    " \n",
    "# printing result\n",
    "print(str(char_freq))"
   ]
  },
  {
   "cell_type": "code",
   "execution_count": null,
   "id": "8f744b63",
   "metadata": {},
   "outputs": [],
   "source": []
  },
  {
   "cell_type": "code",
   "execution_count": null,
   "id": "6080dc19",
   "metadata": {},
   "outputs": [],
   "source": []
  },
  {
   "cell_type": "code",
   "execution_count": null,
   "id": "22e12336",
   "metadata": {},
   "outputs": [],
   "source": []
  },
  {
   "cell_type": "code",
   "execution_count": null,
   "id": "30b73063",
   "metadata": {},
   "outputs": [],
   "source": []
  },
  {
   "cell_type": "code",
   "execution_count": null,
   "id": "03083b8e",
   "metadata": {},
   "outputs": [],
   "source": []
  },
  {
   "cell_type": "code",
   "execution_count": null,
   "id": "e242946e",
   "metadata": {},
   "outputs": [],
   "source": []
  },
  {
   "cell_type": "code",
   "execution_count": null,
   "id": "44ffbcbe",
   "metadata": {},
   "outputs": [],
   "source": []
  }
 ],
 "metadata": {
  "kernelspec": {
   "display_name": "Python 3 (ipykernel)",
   "language": "python",
   "name": "python3"
  },
  "language_info": {
   "codemirror_mode": {
    "name": "ipython",
    "version": 3
   },
   "file_extension": ".py",
   "mimetype": "text/x-python",
   "name": "python",
   "nbconvert_exporter": "python",
   "pygments_lexer": "ipython3",
   "version": "3.10.9"
  }
 },
 "nbformat": 4,
 "nbformat_minor": 5
}
