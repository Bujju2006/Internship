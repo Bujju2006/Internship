{
 "cells": [
  {
   "cell_type": "code",
   "execution_count": 1,
   "id": "f2032baa",
   "metadata": {},
   "outputs": [
    {
     "name": "stdout",
     "output_type": "stream",
     "text": [
      "15\n"
     ]
    }
   ],
   "source": [
    "def func(a, b):\n",
    " return b if a == 0 else func(b % a, a)\n",
    "print(func(30, 75))"
   ]
  },
  {
   "cell_type": "code",
   "execution_count": null,
   "id": "1ae7fe8c",
   "metadata": {},
   "outputs": [],
   "source": [
    "numbers = (4, 7, 19, 2, 89, 45, 72, 22)\n",
    "sorted_numbers = sorted(numbers)\n",
    "even = lambda a: a % 2 == 0\n",
    "even_numbers = filter(even, sorted_numbers)\n",
    "print(type(even_numbers))"
   ]
  },
  {
   "cell_type": "code",
   "execution_count": 5,
   "id": "38849391",
   "metadata": {},
   "outputs": [
    {
     "name": "stdout",
     "output_type": "stream",
     "text": [
      "[2, 4, 7, 19, 22, 45, 72, 89]\n",
      "<class 'filter'>\n"
     ]
    }
   ],
   "source": [
    "numbers = (4, 7, 19, 2, 89, 45, 72, 22)\n",
    "sorted_numbers = sorted(numbers)\n",
    "print(sorted_numbers)\n",
    "even=lambda a:a%2==0\n",
    "even_numbers=filter(even,sorted_numbers)\n",
    "print(type(even_numbers))"
   ]
  },
  {
   "cell_type": "code",
   "execution_count": 6,
   "id": "22fc4cf4",
   "metadata": {},
   "outputs": [
    {
     "ename": "TypeError",
     "evalue": "unsupported operand type(s) for +: 'set' and 'set'",
     "output_type": "error",
     "traceback": [
      "\u001b[1;31m---------------------------------------------------------------------------\u001b[0m",
      "\u001b[1;31mTypeError\u001b[0m                                 Traceback (most recent call last)",
      "Cell \u001b[1;32mIn[6], line 4\u001b[0m\n\u001b[0;32m      2\u001b[0m set2 \u001b[38;5;241m=\u001b[39m {\u001b[38;5;241m82\u001b[39m, \u001b[38;5;241m49\u001b[39m, \u001b[38;5;241m62\u001b[39m}\n\u001b[0;32m      3\u001b[0m set3\u001b[38;5;241m=\u001b[39m{\u001b[38;5;241m99\u001b[39m,\u001b[38;5;241m22\u001b[39m,\u001b[38;5;241m17\u001b[39m}\n\u001b[1;32m----> 4\u001b[0m \u001b[38;5;28mprint\u001b[39m(\u001b[38;5;28mlen\u001b[39m(\u001b[43mset1\u001b[49m\u001b[43m \u001b[49m\u001b[38;5;241;43m+\u001b[39;49m\u001b[43m \u001b[49m\u001b[43mset2\u001b[49m \u001b[38;5;241m+\u001b[39m set3))\n",
      "\u001b[1;31mTypeError\u001b[0m: unsupported operand type(s) for +: 'set' and 'set'"
     ]
    }
   ],
   "source": [
    "set1 = {14, 3, 55}\n",
    "set2 = {82, 49, 62}\n",
    "set3={99,22,17}\n",
    "print(len(set1 + set2 + set3))\n"
   ]
  },
  {
   "cell_type": "code",
   "execution_count": 9,
   "id": "b6f4ddd4",
   "metadata": {},
   "outputs": [
    {
     "name": "stdout",
     "output_type": "stream",
     "text": [
      "208\n"
     ]
    }
   ],
   "source": [
    "print(4**3 + (7 + 5)**(1 + 1))"
   ]
  },
  {
   "cell_type": "code",
   "execution_count": 7,
   "id": "51dd0928",
   "metadata": {},
   "outputs": [
    {
     "name": "stdout",
     "output_type": "stream",
     "text": [
      "144\n"
     ]
    }
   ],
   "source": [
    "print((7 + 5)**(1 + 1))"
   ]
  },
  {
   "cell_type": "code",
   "execution_count": 8,
   "id": "d37dd4e2",
   "metadata": {},
   "outputs": [
    {
     "name": "stdout",
     "output_type": "stream",
     "text": [
      "64\n"
     ]
    }
   ],
   "source": [
    "print(4**3)"
   ]
  },
  {
   "cell_type": "code",
   "execution_count": 11,
   "id": "70898b85",
   "metadata": {},
   "outputs": [
    {
     "data": {
      "text/plain": [
       "{}"
      ]
     },
     "execution_count": 11,
     "metadata": {},
     "output_type": "execute_result"
    }
   ],
   "source": [
    "captains = {}\n",
    "captains\n"
   ]
  },
  {
   "cell_type": "code",
   "execution_count": 13,
   "id": "e7657720",
   "metadata": {},
   "outputs": [
    {
     "data": {
      "text/plain": [
       "{'Enterprise': 'Picard', 'Voyager': 'Janeway', 'Defiant': 'Sisko'}"
      ]
     },
     "execution_count": 13,
     "metadata": {},
     "output_type": "execute_result"
    }
   ],
   "source": [
    "captains = { \"Enterprise\": \"Picard\", \"Voyager\": \"Janeway\", \"Defiant\": \"Sisko\", }\n",
    "captains"
   ]
  },
  {
   "cell_type": "code",
   "execution_count": 14,
   "id": "3ae5ea02",
   "metadata": {},
   "outputs": [
    {
     "name": "stdout",
     "output_type": "stream",
     "text": [
      "The Enterprise is captained by Picard.\n",
      "The Voyager is captained by Janeway.\n",
      "The Defiant is captained by Sisko.\n"
     ]
    }
   ],
   "source": [
    "for ship, captain in captains.items():\n",
    " print(f\"The {ship} is captained by {captain}.\")"
   ]
  },
  {
   "cell_type": "code",
   "execution_count": 15,
   "id": "242bf099",
   "metadata": {},
   "outputs": [
    {
     "name": "stdout",
     "output_type": "stream",
     "text": [
      "The [ship] is captained by [captain].\n",
      "The [ship] is captained by [captain].\n",
      "The [ship] is captained by [captain].\n"
     ]
    }
   ],
   "source": [
    "for item in captains.items():\n",
    " print(f\"The [ship] is captained by [captain].\")\n"
   ]
  },
  {
   "cell_type": "code",
   "execution_count": 16,
   "id": "55e514ad",
   "metadata": {},
   "outputs": [
    {
     "name": "stdout",
     "output_type": "stream",
     "text": [
      "The Picard is captained by Enterprise.\n",
      "The Janeway is captained by Voyager.\n",
      "The Sisko is captained by Defiant.\n"
     ]
    }
   ],
   "source": [
    "for captain, ship in captains.items():\n",
    " print(f\"The {ship} is captained by {captain}.\")"
   ]
  },
  {
   "cell_type": "code",
   "execution_count": 17,
   "id": "50a86d0d",
   "metadata": {},
   "outputs": [
    {
     "ename": "KeyError",
     "evalue": "'Discovery'",
     "output_type": "error",
     "traceback": [
      "\u001b[1;31m---------------------------------------------------------------------------\u001b[0m",
      "\u001b[1;31mKeyError\u001b[0m                                  Traceback (most recent call last)",
      "Cell \u001b[1;32mIn[17], line 1\u001b[0m\n\u001b[1;32m----> 1\u001b[0m \u001b[43mcaptains\u001b[49m\u001b[43m[\u001b[49m\u001b[38;5;124;43m\"\u001b[39;49m\u001b[38;5;124;43mDiscovery\u001b[39;49m\u001b[38;5;124;43m\"\u001b[39;49m\u001b[43m]\u001b[49m\u001b[38;5;241m.\u001b[39mpop()\n",
      "\u001b[1;31mKeyError\u001b[0m: 'Discovery'"
     ]
    }
   ],
   "source": [
    "captains[\"Discovery\"].pop()"
   ]
  },
  {
   "cell_type": "code",
   "execution_count": 18,
   "id": "55aab926",
   "metadata": {},
   "outputs": [],
   "source": [
    "captains = { \"Enterprise\": \"Picard\", \"Voyager\": \"Janeway\", \"Defiant\": \"Sisko\", \"Discovery\": \"unknown\", }"
   ]
  },
  {
   "cell_type": "code",
   "execution_count": 19,
   "id": "1f6ca864",
   "metadata": {},
   "outputs": [
    {
     "ename": "AttributeError",
     "evalue": "'str' object has no attribute 'pop'",
     "output_type": "error",
     "traceback": [
      "\u001b[1;31m---------------------------------------------------------------------------\u001b[0m",
      "\u001b[1;31mAttributeError\u001b[0m                            Traceback (most recent call last)",
      "Cell \u001b[1;32mIn[19], line 1\u001b[0m\n\u001b[1;32m----> 1\u001b[0m \u001b[43mcaptains\u001b[49m\u001b[43m[\u001b[49m\u001b[38;5;124;43m\"\u001b[39;49m\u001b[38;5;124;43mDiscovery\u001b[39;49m\u001b[38;5;124;43m\"\u001b[39;49m\u001b[43m]\u001b[49m\u001b[38;5;241;43m.\u001b[39;49m\u001b[43mpop\u001b[49m()\n",
      "\u001b[1;31mAttributeError\u001b[0m: 'str' object has no attribute 'pop'"
     ]
    }
   ],
   "source": [
    "captains[\"Discovery\"].pop()"
   ]
  },
  {
   "cell_type": "code",
   "execution_count": 20,
   "id": "a085f046",
   "metadata": {},
   "outputs": [],
   "source": [
    "del captains[\"Discovery\"]"
   ]
  },
  {
   "cell_type": "code",
   "execution_count": 21,
   "id": "899a06d1",
   "metadata": {},
   "outputs": [
    {
     "data": {
      "text/plain": [
       "{'Enterprise': 'Picard', 'Voyager': 'Janeway', 'Defiant': 'Sisko'}"
      ]
     },
     "execution_count": 21,
     "metadata": {},
     "output_type": "execute_result"
    }
   ],
   "source": [
    "captains"
   ]
  },
  {
   "cell_type": "code",
   "execution_count": null,
   "id": "67dcd9de",
   "metadata": {},
   "outputs": [],
   "source": []
  }
 ],
 "metadata": {
  "kernelspec": {
   "display_name": "Python 3 (ipykernel)",
   "language": "python",
   "name": "python3"
  },
  "language_info": {
   "codemirror_mode": {
    "name": "ipython",
    "version": 3
   },
   "file_extension": ".py",
   "mimetype": "text/x-python",
   "name": "python",
   "nbconvert_exporter": "python",
   "pygments_lexer": "ipython3",
   "version": "3.10.9"
  }
 },
 "nbformat": 4,
 "nbformat_minor": 5
}
