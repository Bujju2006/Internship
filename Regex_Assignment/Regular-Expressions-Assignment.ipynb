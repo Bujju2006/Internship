{
 "cells": [
  {
   "cell_type": "code",
   "execution_count": 3,
   "id": "7a670c6c",
   "metadata": {},
   "outputs": [
    {
     "name": "stdout",
     "output_type": "stream",
     "text": [
      "Python:Exercises::PHP:exercises:\n"
     ]
    }
   ],
   "source": [
    "'''\n",
    "Question 1- Write a Python program to replace all occurrences of a space, comma, or dot with a colon.\n",
    "Sample Text- 'Python Exercises, PHP exercises.'\n",
    "Expected Output: Python:Exercises::PHP:exercises:\n",
    "\n",
    "'''\n",
    "\n",
    "import re\n",
    "\n",
    "sample_text=\"Python Exercises, PHP exercises.\"\n",
    "\n",
    "result=re.sub(r'\\s|,|\\.',':',sample_text)\n",
    "\n",
    "print(result)"
   ]
  },
  {
   "cell_type": "code",
   "execution_count": 4,
   "id": "c7a97ee9",
   "metadata": {},
   "outputs": [
    {
     "name": "stderr",
     "output_type": "stream",
     "text": [
      "C:\\Users\\Bujju\\AppData\\Local\\Temp\\ipykernel_21000\\4080962126.py:22: FutureWarning: The default value of regex will change from True to False in a future version.\n",
      "  df['SUMMARY'].str.replace(pattern,\"\")\n"
     ]
    },
    {
     "data": {
      "text/plain": [
       "0      hello world\n",
       "1             test\n",
       "2    four five six\n",
       "Name: SUMMARY, dtype: object"
      ]
     },
     "execution_count": 4,
     "metadata": {},
     "output_type": "execute_result"
    }
   ],
   "source": [
    "'''\n",
    "Question 2-  Create a dataframe using the dictionary below and remove everything (commas (,), !, XXXX, ;, etc.) from the columns except words.\n",
    "Dictionary- {'SUMMARY' : ['hello, world!', 'XXXXX test', '123four, five:; six...']}\n",
    "Expected output-\n",
    "0      hello world\n",
    "1             test\n",
    "2    four five six\n",
    "\n",
    "'''\n",
    "import re\n",
    "import pandas as pd\n",
    "\n",
    "data={'SUMMARY' : ['hello, world!', 'XXXXX test', '123four, five:; six...']}\n",
    "#print(data)\n",
    "\n",
    "df=pd.DataFrame(data)\n",
    "\n",
    "df.columns\n",
    "\n",
    "pattern=r'!|^XXXXX|\\d{3}|,|:;|\\...'\n",
    "\n",
    "df['SUMMARY'].str.replace(pattern,\"\")\n"
   ]
  },
  {
   "cell_type": "code",
   "execution_count": 36,
   "id": "3620f93b",
   "metadata": {},
   "outputs": [
    {
     "name": "stdout",
     "output_type": "stream",
     "text": [
      "['hello', 'world', 'test', '123four', 'five']\n"
     ]
    }
   ],
   "source": [
    "'''\n",
    "Question 3- Create a function in python to find all words that are at least 4 characters long in a string. \n",
    "The use of the re.compile() method is mandatory.\n",
    "'''\n",
    "pattern=r'\\w{4,}'\n",
    "regex_pattern=re.compile(pattern)\n",
    "def word_length_check(inputText):    \n",
    "    result=regex_pattern.findall(inputText)\n",
    "    print(result)\n",
    "\n",
    "word_length_check(\"'hello world! test 123four five six\")\n"
   ]
  },
  {
   "cell_type": "code",
   "execution_count": 37,
   "id": "f27c40e6",
   "metadata": {},
   "outputs": [
    {
     "name": "stdout",
     "output_type": "stream",
     "text": [
      "['hello', 'world', 'test', '123fo', 'five', 'six']\n"
     ]
    }
   ],
   "source": [
    "'''\n",
    "Question 4- Create a function in python to find all three, four, and five character words in a string. The use of the \n",
    "re.compile() method is mandatory.\n",
    "'''\n",
    "\n",
    "pattern=r'\\w{5}|\\w{4}|\\w{3}'\n",
    "def word_length_check(inputText):\n",
    "    regex_pattern=re.compile(pattern)\n",
    "    result=regex_pattern.findall(inputText)\n",
    "    print(result)\n",
    "\n",
    "word_length_check(\"'hello world! test 123four five six\")\n"
   ]
  },
  {
   "cell_type": "code",
   "execution_count": 38,
   "id": "ae37238e",
   "metadata": {},
   "outputs": [
    {
     "name": "stdout",
     "output_type": "stream",
     "text": [
      "example (.com)\n",
      "example \n",
      "hr@fliprobo (.com)\n",
      "hr@fliprobo \n",
      "github (.com)\n",
      "github \n",
      "Hello (Data Science World)\n",
      "Hello \n",
      "Data (Scientist)\n",
      "Data \n"
     ]
    }
   ],
   "source": [
    "'''\n",
    "Question 5- Create a function in Python to remove the parenthesis in a list of strings. The use of the re.compile() method is \n",
    "mandatory.\n",
    "Sample Text: [\"example (.com)\", \"hr@fliprobo (.com)\", \"github (.com)\", \"Hello (Data Science World)\", \"Data (Scientist)\"]\n",
    "Expected Output:\n",
    "example.com\n",
    "hr@fliprobo.com\n",
    "github.com\n",
    "Hello Data Science World\n",
    "Data Scientist\n",
    "\n",
    "'''\n",
    "#pattern = re.compile(r'\\([^)]*\\)')\n",
    "pattern = re.compile(r'\\([^)]*\\)')\n",
    "def remove_parenthesis(strList):\n",
    "    for text in strList:\n",
    "        print(text)\n",
    "        result=pattern.sub('',text)\n",
    "        print(result)\n",
    "strList= [\"example (.com)\", \"hr@fliprobo (.com)\", \"github (.com)\", \"Hello (Data Science World)\", \"Data (Scientist)\"]\n",
    "\n",
    "remove_parenthesis(strList)\n"
   ]
  },
  {
   "cell_type": "code",
   "execution_count": 8,
   "id": "d16a1a85",
   "metadata": {},
   "outputs": [
    {
     "name": "stdout",
     "output_type": "stream",
     "text": [
      "example (.com)\n"
     ]
    }
   ],
   "source": [
    "pattern = re.compile(r'\\([\\s\\w)]*\\)')\n",
    "result=pattern.sub('','example (.com)')\n",
    "print(result)"
   ]
  },
  {
   "cell_type": "code",
   "execution_count": 9,
   "id": "9fc4d18e",
   "metadata": {},
   "outputs": [
    {
     "name": "stdout",
     "output_type": "stream",
     "text": [
      "['(.com)']\n"
     ]
    }
   ],
   "source": [
    "pattern = r'\\([^)]*\\)'\n",
    "result=re.findall(pattern,'example (.com)')\n",
    "print(result)"
   ]
  },
  {
   "cell_type": "code",
   "execution_count": 39,
   "id": "1ac30c61",
   "metadata": {},
   "outputs": [
    {
     "name": "stdout",
     "output_type": "stream",
     "text": [
      "['\"example\",\"hr@fliprobo\",\"github\",\"Hello\",\"Data\"']\n"
     ]
    }
   ],
   "source": [
    "'''\n",
    "Question 6- Write a python program to remove the parenthesis area from the text stored in the text file using Regular Expression.\n",
    "Sample Text: [\"example (.com)\", \"hr@fliprobo (.com)\", \"github (.com)\", \"Hello (Data Science World)\", \"Data (Scientist)\"]\n",
    "Expected Output: [\"example\", \"hr@fliprobo\", \"github\", \"Hello\", \"Data\"]\n",
    "Note- Store given sample text in the text file and then to remove the parenthesis area from the text.\n",
    "\n",
    "'''\n",
    "pattern=r'\\([^)]*\\)|\\s'\n",
    "resltList=[]\n",
    "with open('sample.txt') as file:\n",
    "    for line in file:\n",
    "        result=re.sub(pattern,'',line)\n",
    "        resltList.append(result)\n",
    "        \n",
    "print(resltList)\n",
    "    \n"
   ]
  },
  {
   "cell_type": "code",
   "execution_count": 40,
   "id": "8b88c054",
   "metadata": {},
   "outputs": [
    {
     "name": "stdout",
     "output_type": "stream",
     "text": [
      "['example', ' hr@fliprobo']\n"
     ]
    }
   ],
   "source": [
    "test='example , hr@fliprobo'\n",
    "x=re.split(\"\\s,\",test)\n",
    "print(x)"
   ]
  },
  {
   "cell_type": "code",
   "execution_count": 41,
   "id": "d8e4daa4",
   "metadata": {},
   "outputs": [
    {
     "name": "stdout",
     "output_type": "stream",
     "text": [
      "['Importance', 'Of', 'Regular', 'Expressions', 'In', 'Python']\n"
     ]
    }
   ],
   "source": [
    "'''\n",
    "Question 7- Write a regular expression in Python to split a string into uppercase letters.\n",
    "Sample text: “ImportanceOfRegularExpressionsInPython”\n",
    "Expected Output: [‘Importance’, ‘Of’, ‘Regular’, ‘Expression’, ‘In’, ‘Python’]\n",
    "'''\n",
    "pattern=r'[A-Z][a-z]*'\n",
    "sampleText='ImportanceOfRegularExpressionsInPython'\n",
    "x=re.findall(pattern,sampleText)\n",
    "print(x)"
   ]
  },
  {
   "cell_type": "code",
   "execution_count": 42,
   "id": "834dcff9",
   "metadata": {},
   "outputs": [
    {
     "name": "stdout",
     "output_type": "stream",
     "text": [
      "['1', '2', '3']\n"
     ]
    }
   ],
   "source": [
    "'''\n",
    "Question 8- Create a function in python to insert spaces between words starting with numbers.\n",
    "Sample Text: “RegularExpression1IsAn2ImportantTopic3InPython\"\n",
    "Expected Output: RegularExpression 1IsAn 2ImportantTopic 3InPython\n",
    "\n",
    "'''\n",
    "def insert_space_before_number(text):\n",
    "    result=re.findall(r'\\d{1}',text)\n",
    "    print(result)\n",
    "\n",
    "\n",
    "sample_text=\"RegularExpression1IsAn2ImportantTopic3InPython\"\n",
    "insert_space_before_number(sample_text)"
   ]
  },
  {
   "cell_type": "code",
   "execution_count": 14,
   "id": "59409970",
   "metadata": {},
   "outputs": [
    {
     "data": {
      "text/plain": [
       "'\\nQuestion 9- Create a function in python to insert spaces between words starting with capital letters or with numbers.\\nSample Text: “RegularExpression1IsAn2ImportantTopic3InPython\"\\nExpected Output:  RegularExpression 1 IsAn 2 ImportantTopic 3 InPython\\n\\n'"
      ]
     },
     "execution_count": 14,
     "metadata": {},
     "output_type": "execute_result"
    }
   ],
   "source": [
    "'''\n",
    "Question 9- Create a function in python to insert spaces between words starting with capital letters or with numbers.\n",
    "Sample Text: “RegularExpression1IsAn2ImportantTopic3InPython\"\n",
    "Expected Output:  RegularExpression 1 IsAn 2 ImportantTopic 3 InPython\n",
    "\n",
    "'''\n",
    "\n"
   ]
  },
  {
   "cell_type": "code",
   "execution_count": 43,
   "id": "67421790",
   "metadata": {},
   "outputs": [
    {
     "data": {
      "text/plain": [
       "0    Switze\n",
       "1    Icelan\n",
       "2    Denmar\n",
       "3    Norway\n",
       "4    Canada\n",
       "Name: first_five_letters, dtype: object"
      ]
     },
     "execution_count": 43,
     "metadata": {},
     "output_type": "execute_result"
    }
   ],
   "source": [
    "'''\n",
    "Question 10- Use the github link below to read the data and create a dataframe. After creating the dataframe extract the \n",
    "first 6 letters of each country and store in the dataframe under a new column called first_five_letters.\n",
    "Github Link-  https://raw.githubusercontent.com/dsrscientist/DSData/master/happiness_score_dataset.csv\n",
    "\n",
    "'''\n",
    "import pandas as pd\n",
    "\n",
    "country_df = pd.read_csv(\"https://raw.githubusercontent.com/dsrscientist/DSData/master/happiness_score_dataset.csv\")\n",
    "pattern='(\\w{6})'\n",
    "\n",
    "country_df['first_five_letters']=country_df['Country'].str.extract(pattern)\n",
    "country_df['first_five_letters'].head()"
   ]
  },
  {
   "cell_type": "code",
   "execution_count": 44,
   "id": "d1c94fb5",
   "metadata": {},
   "outputs": [
    {
     "name": "stdout",
     "output_type": "stream",
     "text": [
      "<re.Match object; span=(0, 7), match='abC_123'>\n",
      "None\n"
     ]
    }
   ],
   "source": [
    "'''\n",
    "Question 11- Write a Python program to match a string that contains only upper and lowercase letters, numbers, and underscores.\n",
    "'''\n",
    "\n",
    "target_string1='abC_123'\n",
    "\n",
    "result1=re.match(r'^[a-zA-Z0-9_]+$',target_string1)\n",
    "print(result1)\n",
    "\n",
    "target_string2='abc_123@#123'\n",
    "result2=re.match(r'^[a-zA-Z0-9_]+$',target_string2)\n",
    "print(result2)"
   ]
  },
  {
   "cell_type": "code",
   "execution_count": 45,
   "id": "45bde180",
   "metadata": {},
   "outputs": [
    {
     "name": "stdout",
     "output_type": "stream",
     "text": [
      "<re.Match object; span=(0, 6), match='123abc'>\n",
      "None\n"
     ]
    }
   ],
   "source": [
    "'''\n",
    "Question 12- Write a Python program where a string will start with a specific number. \n",
    "'''\n",
    "\n",
    "target_string1='123abc'\n",
    "\n",
    "result1=re.match(r'^[0-9a-zA-Z_]+$',target_string1)\n",
    "print(result1)\n",
    "\n",
    "target_string2='abc_123@#123'\n",
    "result2=re.match(r'^[0-9a-zA-Z_]+$',target_string2)\n",
    "print(result2)"
   ]
  },
  {
   "cell_type": "code",
   "execution_count": 46,
   "id": "21614ab7",
   "metadata": {},
   "outputs": [
    {
     "name": "stdout",
     "output_type": "stream",
     "text": [
      "128.192.1.2\n"
     ]
    }
   ],
   "source": [
    "'''\n",
    "Question 13- Write a Python program to remove leading zeros from an IP address\n",
    "'''\n",
    "ip_address='128.192.001.002'\n",
    "result=re.sub(r'\\b0+(\\d)', r'\\1', ip_address)\n",
    "print(result)"
   ]
  },
  {
   "cell_type": "code",
   "execution_count": 47,
   "id": "8459a3cd",
   "metadata": {},
   "outputs": [
    {
     "name": "stdout",
     "output_type": "stream",
     "text": [
      "August 15th 1947\n"
     ]
    }
   ],
   "source": [
    "'''\n",
    "Question 14- Write a regular expression in python to match a date string in the form of Month name followed by day number and year stored in a text file.\n",
    "Sample text :  ' On August 15th 1947 that India was declared independent from British colonialism, and the reins of control were handed over to the leaders of the Country’.\n",
    "Expected Output- August 15th 1947\n",
    "\n",
    "'''\n",
    "import re\n",
    "\n",
    "pattern = r\"\\b([A-Z][a-z]+)\\s+\\d{1,2}\\w+?\\s+\\d{4}\\b\"\n",
    "with open('Question14.txt') as file:\n",
    "    for line in file:\n",
    "        result=re.search(pattern,line)\n",
    "        print(result.group())\n",
    "    \n"
   ]
  },
  {
   "cell_type": "code",
   "execution_count": 48,
   "id": "e14e9968",
   "metadata": {},
   "outputs": [
    {
     "name": "stdout",
     "output_type": "stream",
     "text": [
      "fox\n",
      "<re.Match object; span=(16, 19), match='fox'>\n",
      "dog\n",
      "<re.Match object; span=(40, 43), match='dog'>\n",
      "horse\n",
      "None\n"
     ]
    }
   ],
   "source": [
    "'''\n",
    "Question 15- Write a Python program to search some literals strings in a string. \n",
    "Sample text : 'The quick brown fox jumps over the lazy dog.'\n",
    "Searched words : 'fox', 'dog', 'horse'\n",
    "\n",
    "'''\n",
    "\n",
    "sample_text='The quick brown fox jumps over the lazy dog'\n",
    "\n",
    "search_words=['fox', 'dog', 'horse']\n",
    "\n",
    "for search_txt in search_words:\n",
    "    print(search_txt)\n",
    "    result=re.search(search_txt,sample_text)\n",
    "    #result=re.finditer(search_txt,sample_text)\n",
    "    #result=re.match(search_txt,sample_text)\n",
    "    print(result)"
   ]
  },
  {
   "cell_type": "code",
   "execution_count": 49,
   "id": "e85cd7fb",
   "metadata": {},
   "outputs": [
    {
     "name": "stdout",
     "output_type": "stream",
     "text": [
      "<re.Match object; span=(16, 19), match='fox'>\n",
      "Start poistion of search word: 16 search word end position: 19\n"
     ]
    }
   ],
   "source": [
    "'''\n",
    "Question 16- Write a Python program to search a literals string in a string and also find the location within the original string where the pattern occurs\n",
    "Sample text : 'The quick brown fox jumps over the lazy dog.'\n",
    "Searched words : 'fox'\n",
    "\n",
    "'''\n",
    "import re\n",
    "sample_text='The quick brown fox jumps over the lazy dog'\n",
    "search_word='fox'\n",
    "result=re.search(search_word,sample_text)\n",
    "print(result)\n",
    "print(\"Start poistion of search word:\",result.start(),\"search word end position:\",result.end())\n",
    "\n"
   ]
  },
  {
   "cell_type": "code",
   "execution_count": 50,
   "id": "4cbf3b5b",
   "metadata": {},
   "outputs": [
    {
     "name": "stdout",
     "output_type": "stream",
     "text": [
      "<re.Match object; span=(7, 16), match='exercises'>\n",
      "exercises\n",
      "<re.Match object; span=(22, 31), match='exercises'>\n",
      "exercises\n",
      "<re.Match object; span=(36, 45), match='exercises'>\n",
      "exercises\n"
     ]
    }
   ],
   "source": [
    "'''\n",
    "Question 17- Write a Python program to find the substrings within a string.\n",
    "Sample text : 'Python exercises, PHP exercises, C# exercises'\n",
    "Pattern : 'exercises'.\n",
    "'''\n",
    "\n",
    "sample_text='Python exercises, PHP exercises, C# exercises'\n",
    "\n",
    "result=re.finditer('exercises',sample_text)\n",
    "for output in result:\n",
    "    print(output)\n",
    "    #extract each matching location\n",
    "    print(output.group())\n",
    "\n"
   ]
  },
  {
   "cell_type": "code",
   "execution_count": 51,
   "id": "f2ce9ce0",
   "metadata": {},
   "outputs": [
    {
     "name": "stdout",
     "output_type": "stream",
     "text": [
      "Occurances of substring 'exercises' in a String: [7, 22, 36]\n"
     ]
    }
   ],
   "source": [
    "'''\n",
    "Question 18- Write a Python program to find the occurrence and position of the substrings within a string.\n",
    "'''\n",
    "\n",
    "sample_text='Python exercises, PHP exercises, C# exercises'\n",
    "position=[]\n",
    "index=0\n",
    "while True:\n",
    "    result=sample_text.find('exercises',index)\n",
    "    if result==-1:\n",
    "        break    \n",
    "    index=result+1\n",
    "    position.append(result)\n",
    "print(\"Occurances of substring 'exercises' in a String:\",position)"
   ]
  },
  {
   "cell_type": "code",
   "execution_count": 52,
   "id": "ef0bb16f",
   "metadata": {},
   "outputs": [
    {
     "name": "stdout",
     "output_type": "stream",
     "text": [
      "14-12-2023\n"
     ]
    }
   ],
   "source": [
    "'''\n",
    "Question 19- Write a Python program to convert a date of yyyy-mm-dd format to dd-mm-yyyy format.\n",
    "'''\n",
    "input_date='2023-12-14'\n",
    "datePattern=re.compile(r'(\\d{4})-(\\d{2})-(\\d{2})')\n",
    "\n",
    "match=datePattern.match(input_date)\n",
    "\n",
    "year,month,day=match.groups()\n",
    "\n",
    "converted_date=f\"{day}-{month}-{year}\"\n",
    "print(converted_date)\n"
   ]
  },
  {
   "cell_type": "code",
   "execution_count": 53,
   "id": "730d78a2",
   "metadata": {},
   "outputs": [
    {
     "name": "stdout",
     "output_type": "stream",
     "text": [
      "['01.12', '145.8', '3.01', '27.25', '0.25']\n"
     ]
    }
   ],
   "source": [
    "'''\n",
    "Question 20- Create a function in python to find all decimal numbers with a precision of 1 or 2 in a string. \n",
    "The use of the re.compile() method is mandatory.\n",
    "Sample Text: \"01.12 0132.123 2.31875 145.8 3.01 27.25 0.25\"\n",
    "Expected Output: ['01.12', '145.8', '3.01', '27.25', '0.25']\n",
    "\n",
    "'''\n",
    "\n",
    "decimal_pattern=re.compile(r'\\b\\d+\\.\\d{1,2}\\b')\n",
    "sample_text=\"01.12 0132.123 2.31875 145.8 3.01 27.25 0.25\"\n",
    "\n",
    "result=decimal_pattern.findall(sample_text)\n",
    "print(result)\n"
   ]
  },
  {
   "cell_type": "code",
   "execution_count": 54,
   "id": "82fd28fb",
   "metadata": {},
   "outputs": [
    {
     "name": "stdout",
     "output_type": "stream",
     "text": [
      "Number: 43 starting position: 20 end position: 22\n",
      "Number: 91 starting position: 37 end position: 39\n"
     ]
    }
   ],
   "source": [
    "'''\n",
    "Question 21- Write a Python program to separate and print the numbers and their position of a given string.\n",
    "'''\n",
    "target_string=\"Rohit sharma scored 43 centuries and 91 half centuries in his cricket carrier\"\n",
    "\n",
    "#pattern=re.compile(r'(\\b\\d+\\b)'\n",
    "\n",
    "result=re.finditer(r'(\\b\\d+\\b)',target_string)\n",
    "                        \n",
    "for number in result:\n",
    "   # print(number)\n",
    "    print(\"Number:\",number.group(),\"starting position:\",number.start(),\"end position:\",number.end())"
   ]
  },
  {
   "cell_type": "code",
   "execution_count": 55,
   "id": "a2811a8e",
   "metadata": {},
   "outputs": [
    {
     "name": "stdout",
     "output_type": "stream",
     "text": [
      "['947', '896', '926', '524', '734', '950', '642']\n",
      "my highest mark in semster: 950\n"
     ]
    }
   ],
   "source": [
    "'''\n",
    "Question 22- Write a regular expression in python program to extract maximum/largest numeric value from a string.\n",
    "Sample Text:  'My marks in each semester are: 947, 896, 926, 524, 734, 950, 642'\n",
    "Expected Output: 950\n",
    "'''\n",
    "sample_text='My marks in each semester are: 947, 896, 926, 524, 734, 950, 642'\n",
    "\n",
    "result=re.findall(r'(\\b\\d+\\b)',sample_text)\n",
    "print(result)\n",
    "maxValue=max(result)\n",
    "print(\"my highest mark in semster:\",maxValue)"
   ]
  },
  {
   "cell_type": "code",
   "execution_count": 56,
   "id": "14cc91ef",
   "metadata": {},
   "outputs": [
    {
     "name": "stdout",
     "output_type": "stream",
     "text": [
      "RegularExpressionIsAnImportantTopicInPython\n"
     ]
    }
   ],
   "source": [
    "'''\n",
    "Question 23- Create a function in python to insert spaces between words starting with capital letters.\n",
    "Sample Text: “RegularExpressionIsAnImportantTopicInPython\"\n",
    "Expected Output: Regular Expression Is An Important Topic In Python\n",
    "'''\n",
    "target_string='RegularExpressionIsAnImportantTopicInPython'\n",
    "print(target_string)"
   ]
  },
  {
   "cell_type": "code",
   "execution_count": 57,
   "id": "fc863fab",
   "metadata": {},
   "outputs": [
    {
     "name": "stdout",
     "output_type": "stream",
     "text": [
      "['Aaa', 'Bbb', 'Cc', 'Ddd']\n"
     ]
    }
   ],
   "source": [
    "'''\n",
    "Question 24- Python regex to find sequences of one upper case letter followed by lower case letters\n",
    "'''\n",
    "\n",
    "import re\n",
    "target_string='Aaa12Bbb23Cc45Ddd12'\n",
    "result_text=re.findall(r'[A-Z][a-z]+',target_string)\n",
    "print (result_text)"
   ]
  },
  {
   "cell_type": "code",
   "execution_count": 58,
   "id": "730ed1c1",
   "metadata": {},
   "outputs": [
    {
     "name": "stdout",
     "output_type": "stream",
     "text": [
      "Hello hello world\n"
     ]
    }
   ],
   "source": [
    "'''\n",
    "Question 25- Write a Python program to remove continuous duplicate words from Sentence using Regular Expression.\n",
    "Sample Text: \"Hello hello world world\"\n",
    "Expected Output: Hello hello world\n",
    "'''\n",
    "target_string=\"Hello hello world world\"\n",
    "pattern=r'\\b(\\w+)(?:\\W\\1)+'\n",
    "\n",
    "result=re.sub(pattern,r'\\1',target_string)\n",
    "print(result)"
   ]
  },
  {
   "cell_type": "code",
   "execution_count": 59,
   "id": "a9444788",
   "metadata": {},
   "outputs": [
    {
     "name": "stdout",
     "output_type": "stream",
     "text": [
      "<re.Match object; span=(0, 6), match='123abc'>\n",
      "None\n"
     ]
    }
   ],
   "source": [
    "'''\n",
    "Question 26-  Write a python program using RegEx to accept string ending with alphanumeric character.\n",
    "'''\n",
    "\n",
    "target_String1='123abc'\n",
    "target_String2='abc1234#$'\n",
    "\n",
    "pattern=re.compile(r'.*[a-zA-Z0-9]$')\n",
    "\n",
    "result1=pattern.match(target_String1)\n",
    "print(result1)\n",
    "\n",
    "result2=pattern.match(target_String2)\n",
    "print(result2)\n",
    "\n"
   ]
  },
  {
   "cell_type": "code",
   "execution_count": 60,
   "id": "8893b8f7",
   "metadata": {},
   "outputs": [
    {
     "name": "stdout",
     "output_type": "stream",
     "text": [
      "RT @kapil_kausik: #Doltiwal I mean #xyzabc is \"hurt\" by #Demonetization as the same has rendered USELESS <ed><U+00A0><U+00BD><ed><U+00B1><U+0089> \"acquired funds\" No wo\n",
      "['#Doltiwal', '#xyzabc', '#Demonetization']\n"
     ]
    }
   ],
   "source": [
    "'''\n",
    "Question 27-Write a python program using RegEx to extract the hashtags.\n",
    "Sample Text:  \"\"\"RT @kapil_kausik: #Doltiwal I mean #xyzabc is \"hurt\" by #Demonetization as the same has rendered USELESS <ed><U+00A0><U+00BD><ed><U+00B1><U+0089> \"acquired funds\" No wo\"\"\"\n",
    "Expected Output: ['#Doltiwal', '#xyzabc', '#Demonetization']\n",
    "'''\n",
    "\n",
    "target_string=  \"\"\"RT @kapil_kausik: #Doltiwal I mean #xyzabc is \"hurt\" by #Demonetization as the same has rendered USELESS <ed><U+00A0><U+00BD><ed><U+00B1><U+0089> \"acquired funds\" No wo\"\"\"\n",
    "print(target_string)\n",
    "result=re.findall(r'#\\w+',target_string)\n",
    "print(result)"
   ]
  },
  {
   "cell_type": "code",
   "execution_count": 61,
   "id": "bf371347",
   "metadata": {},
   "outputs": [
    {
     "name": "stdout",
     "output_type": "stream",
     "text": [
      "@Jags123456 Bharat band on 28??<ed><U+00A0><U+00BD><ed><U+00B8><U+0082>Those who  are protesting #demonetization  are all different party leaders\n",
      "@Jags123456 Bharat band on 28??<ed><ed>Those who  are protesting #demonetization  are all different party leaders\n"
     ]
    }
   ],
   "source": [
    "'''\n",
    "Question 28- Write a python program using RegEx to remove <U+..> like symbols\n",
    "Check the below sample text, there are strange symbols something of the sort <U+..> all over the place. You need to come up with a general Regex expression that will cover all such symbols.\n",
    "Sample Text: \"@Jags123456 Bharat band on 28??<ed><U+00A0><U+00BD><ed><U+00B8><U+0082>Those who  are protesting #demonetization  are all different party leaders\"\n",
    "Expected Output: @Jags123456 Bharat band on 28??<ed><ed>Those who  are protesting #demonetization  are all different party leaders\n",
    "\n",
    "'''\n",
    "\n",
    "target_string=\"@Jags123456 Bharat band on 28??<ed><U+00A0><U+00BD><ed><U+00B8><U+0082>Those who  are protesting #demonetization  are all different party leaders\"\n",
    "print(target_string)\n",
    "pattern=re.compile(r'<U\\+[A-Za-z0-9]+>')\n",
    "result=pattern.sub('',target_string)\n",
    "print(result)"
   ]
  },
  {
   "cell_type": "code",
   "execution_count": 62,
   "id": "25811bc9",
   "metadata": {},
   "outputs": [
    {
     "name": "stdout",
     "output_type": "stream",
     "text": [
      "Ron was born on 12-09-1992 and he was admitted to school 15-12-1999.\n",
      "['12-09-1992', '15-12-1999']\n"
     ]
    }
   ],
   "source": [
    "'''\n",
    "Question 29- Write a python program to extract dates from the text stored in the text file.\n",
    "Sample Text: Ron was born on 12-09-1992 and he was admitted to school 15-12-1999.\n",
    "Note- Store this sample text in the file and then extract dates.\n",
    "\n",
    "'''\n",
    "datePattern=re.compile(r'\\b\\d{2}-\\d{2}-\\d{4}\\b')\n",
    "\n",
    "with open('Question29.txt') as file:\n",
    "    for line in file:\n",
    "        print(line)\n",
    "        match=datePattern.findall(line)\n",
    "        print(match)\n",
    "           \n",
    "\n"
   ]
  },
  {
   "cell_type": "code",
   "execution_count": 63,
   "id": "b30d5724",
   "metadata": {},
   "outputs": [
    {
     "name": "stdout",
     "output_type": "stream",
     "text": [
      " following example creates  ArrayList  a capacity   elements. 4 elements   added   ArrayList   ArrayList  trimmed accordingly.\n"
     ]
    }
   ],
   "source": [
    "'''\n",
    "Question 30- Create a function in python to remove all words from a string of length between 2 and 4.\n",
    "The use of the re.compile() method is mandatory.\n",
    "Sample Text: \"The following example creates an ArrayList with a capacity of 50 elements. 4 elements are then added to the ArrayList and the ArrayList is trimmed accordingly.\"\n",
    "Expected Output:  following example creates ArrayList a capacity elements. 4 elements added ArrayList ArrayList trimmed accordingly.\n",
    "'''\n",
    "\n",
    "target_string=\"The following example creates an ArrayList with a capacity of 50 elements. 4 elements are then added to the ArrayList and the ArrayList is trimmed accordingly.\"\n",
    "\n",
    "pattern=re.compile(r'\\b\\w{2,4}\\b')\n",
    "\n",
    "def remove_words_in_specificLength(inputText):\n",
    "    outputText=pattern.sub('',target_string)\n",
    "    print(outputText)\n",
    "\n",
    "remove_words_in_specificLength(target_string)\n",
    "\n",
    "   "
   ]
  },
  {
   "cell_type": "code",
   "execution_count": null,
   "id": "6ac6cd35",
   "metadata": {},
   "outputs": [],
   "source": []
  },
  {
   "cell_type": "code",
   "execution_count": null,
   "id": "b1151512",
   "metadata": {},
   "outputs": [],
   "source": []
  },
  {
   "cell_type": "code",
   "execution_count": null,
   "id": "a962fc55",
   "metadata": {},
   "outputs": [],
   "source": []
  }
 ],
 "metadata": {
  "kernelspec": {
   "display_name": "Python 3 (ipykernel)",
   "language": "python",
   "name": "python3"
  },
  "language_info": {
   "codemirror_mode": {
    "name": "ipython",
    "version": 3
   },
   "file_extension": ".py",
   "mimetype": "text/x-python",
   "name": "python",
   "nbconvert_exporter": "python",
   "pygments_lexer": "ipython3",
   "version": "3.10.9"
  }
 },
 "nbformat": 4,
 "nbformat_minor": 5
}
